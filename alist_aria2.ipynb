{
  "nbformat": 4,
  "nbformat_minor": 0,
  "metadata": {
    "colab": {
      "provenance": []
    },
    "kernelspec": {
      "name": "python3",
      "display_name": "Python 3"
    },
    "language_info": {
      "name": "python"
    }
  },
  "cells": [
    {
      "cell_type": "markdown",
      "source": [
        "## 下载ALIST"
      ],
      "metadata": {
        "id": "vjFHb2aO9HYF"
      }
    },
    {
      "cell_type": "code",
      "execution_count": null,
      "metadata": {
        "id": "yg8jd45d7qo_"
      },
      "outputs": [],
      "source": [
        "!wget https://github.com/alist-org/alist/releases/download/v3.26.0/alist-linux-amd64.tar.gz\n",
        "!tar -zxvf alist-linux-amd64.tar.gz\n",
        "!chmod +x alist"
      ]
    },
    {
      "cell_type": "markdown",
      "source": [
        "## 下载aria2"
      ],
      "metadata": {
        "id": "V_3Ll3U_9OfU"
      }
    },
    {
      "cell_type": "code",
      "source": [
        "!sudo apt install aria2\n",
        "!wget http://scc-file-storage.test.upcdn.net/files/aria2.conf"
      ],
      "metadata": {
        "id": "QndD6DKG9Gvm"
      },
      "execution_count": null,
      "outputs": []
    },
    {
      "cell_type": "markdown",
      "source": [
        "## 启动"
      ],
      "metadata": {
        "id": "-ufRy0IZ9YfJ"
      }
    },
    {
      "cell_type": "code",
      "source": [
        "!curl -Lo /usr/bin/cloudflared https://github.com/cloudflare/cloudflared/releases/latest/download/cloudflared-linux-amd64 && chmod +x /usr/bin/cloudflared\n",
        "!aria2c --conf-path=aria2.conf & ./alist server & cloudflared tunnel --url localhost:5244"
      ],
      "metadata": {
        "id": "CBM13--c8Nm_"
      },
      "execution_count": null,
      "outputs": []
    }
  ]
}
